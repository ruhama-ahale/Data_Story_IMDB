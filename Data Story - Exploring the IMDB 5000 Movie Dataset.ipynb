{
 "cells": [
  {
   "cell_type": "markdown",
   "metadata": {},
   "source": [
    "    Data Story on the IMDB Dataset"
   ]
  },
  {
   "cell_type": "markdown",
   "metadata": {},
   "source": [
    "First we explore the dataset and clean it to make it usable for analysis"
   ]
  },
  {
   "cell_type": "code",
   "execution_count": 2,
   "metadata": {
    "collapsed": false
   },
   "outputs": [
    {
     "name": "stdout",
     "output_type": "stream",
     "text": [
      "Populating the interactive namespace from numpy and matplotlib\n"
     ]
    },
    {
     "name": "stderr",
     "output_type": "stream",
     "text": [
      "/Users/ruhama.ahale/anaconda/lib/python3.6/site-packages/IPython/core/magics/pylab.py:161: UserWarning: pylab import has clobbered these variables: ['datetime']\n",
      "`%matplotlib` prevents importing * from pylab and numpy\n",
      "  \"\\n`%matplotlib` prevents importing * from pylab and numpy\"\n"
     ]
    }
   ],
   "source": [
    "#import packages\n",
    "\n",
    "\n",
    "import pandas as pd\n",
    "import numpy as np\n",
    "import matplotlib.pyplot as plt\n",
    "import matplotlib.dates as mdates\n",
    "from IPython.core.display import HTML\n",
    "from scipy.stats import stats\n",
    "import seaborn as sns\n",
    "sns.set(color_codes=True)\n",
    "from datetime import datetime\n",
    "css = open('style-table.css').read() + open('style-notebook.css').read()\n",
    "HTML('<style>{}</style>'.format(css))\n",
    "%matplotlib inline\n",
    "%pylab inline\n"
   ]
  },
  {
   "cell_type": "code",
   "execution_count": 3,
   "metadata": {
    "collapsed": false
   },
   "outputs": [],
   "source": [
    "import bokeh.plotting as bkp\n",
    "from mpl_toolkits.axes_grid1 import make_axes_locatable"
   ]
  },
  {
   "cell_type": "markdown",
   "metadata": {},
   "source": [
    "Load the data"
   ]
  },
  {
   "cell_type": "code",
   "execution_count": 4,
   "metadata": {
    "collapsed": false
   },
   "outputs": [
    {
     "data": {
      "text/html": [
       "<div>\n",
       "<table border=\"1\" class=\"dataframe\">\n",
       "  <thead>\n",
       "    <tr style=\"text-align: right;\">\n",
       "      <th></th>\n",
       "      <th>color</th>\n",
       "      <th>director_name</th>\n",
       "      <th>num_critic_for_reviews</th>\n",
       "      <th>duration</th>\n",
       "      <th>director_facebook_likes</th>\n",
       "      <th>actor_3_facebook_likes</th>\n",
       "      <th>actor_2_name</th>\n",
       "      <th>actor_1_facebook_likes</th>\n",
       "      <th>gross</th>\n",
       "      <th>genres</th>\n",
       "      <th>...</th>\n",
       "      <th>num_user_for_reviews</th>\n",
       "      <th>language</th>\n",
       "      <th>country</th>\n",
       "      <th>content_rating</th>\n",
       "      <th>budget</th>\n",
       "      <th>title_year</th>\n",
       "      <th>actor_2_facebook_likes</th>\n",
       "      <th>imdb_score</th>\n",
       "      <th>aspect_ratio</th>\n",
       "      <th>movie_facebook_likes</th>\n",
       "    </tr>\n",
       "  </thead>\n",
       "  <tbody>\n",
       "    <tr>\n",
       "      <th>0</th>\n",
       "      <td>Color</td>\n",
       "      <td>James Cameron</td>\n",
       "      <td>723.0</td>\n",
       "      <td>178.0</td>\n",
       "      <td>0.0</td>\n",
       "      <td>855.0</td>\n",
       "      <td>Joel David Moore</td>\n",
       "      <td>1000.0</td>\n",
       "      <td>760505847.0</td>\n",
       "      <td>Action|Adventure|Fantasy|Sci-Fi</td>\n",
       "      <td>...</td>\n",
       "      <td>3054.0</td>\n",
       "      <td>English</td>\n",
       "      <td>USA</td>\n",
       "      <td>PG-13</td>\n",
       "      <td>237000000.0</td>\n",
       "      <td>2009.0</td>\n",
       "      <td>936.0</td>\n",
       "      <td>7.9</td>\n",
       "      <td>1.78</td>\n",
       "      <td>33000</td>\n",
       "    </tr>\n",
       "    <tr>\n",
       "      <th>1</th>\n",
       "      <td>Color</td>\n",
       "      <td>Gore Verbinski</td>\n",
       "      <td>302.0</td>\n",
       "      <td>169.0</td>\n",
       "      <td>563.0</td>\n",
       "      <td>1000.0</td>\n",
       "      <td>Orlando Bloom</td>\n",
       "      <td>40000.0</td>\n",
       "      <td>309404152.0</td>\n",
       "      <td>Action|Adventure|Fantasy</td>\n",
       "      <td>...</td>\n",
       "      <td>1238.0</td>\n",
       "      <td>English</td>\n",
       "      <td>USA</td>\n",
       "      <td>PG-13</td>\n",
       "      <td>300000000.0</td>\n",
       "      <td>2007.0</td>\n",
       "      <td>5000.0</td>\n",
       "      <td>7.1</td>\n",
       "      <td>2.35</td>\n",
       "      <td>0</td>\n",
       "    </tr>\n",
       "    <tr>\n",
       "      <th>2</th>\n",
       "      <td>Color</td>\n",
       "      <td>Sam Mendes</td>\n",
       "      <td>602.0</td>\n",
       "      <td>148.0</td>\n",
       "      <td>0.0</td>\n",
       "      <td>161.0</td>\n",
       "      <td>Rory Kinnear</td>\n",
       "      <td>11000.0</td>\n",
       "      <td>200074175.0</td>\n",
       "      <td>Action|Adventure|Thriller</td>\n",
       "      <td>...</td>\n",
       "      <td>994.0</td>\n",
       "      <td>English</td>\n",
       "      <td>UK</td>\n",
       "      <td>PG-13</td>\n",
       "      <td>245000000.0</td>\n",
       "      <td>2015.0</td>\n",
       "      <td>393.0</td>\n",
       "      <td>6.8</td>\n",
       "      <td>2.35</td>\n",
       "      <td>85000</td>\n",
       "    </tr>\n",
       "    <tr>\n",
       "      <th>3</th>\n",
       "      <td>Color</td>\n",
       "      <td>Christopher Nolan</td>\n",
       "      <td>813.0</td>\n",
       "      <td>164.0</td>\n",
       "      <td>22000.0</td>\n",
       "      <td>23000.0</td>\n",
       "      <td>Christian Bale</td>\n",
       "      <td>27000.0</td>\n",
       "      <td>448130642.0</td>\n",
       "      <td>Action|Thriller</td>\n",
       "      <td>...</td>\n",
       "      <td>2701.0</td>\n",
       "      <td>English</td>\n",
       "      <td>USA</td>\n",
       "      <td>PG-13</td>\n",
       "      <td>250000000.0</td>\n",
       "      <td>2012.0</td>\n",
       "      <td>23000.0</td>\n",
       "      <td>8.5</td>\n",
       "      <td>2.35</td>\n",
       "      <td>164000</td>\n",
       "    </tr>\n",
       "    <tr>\n",
       "      <th>4</th>\n",
       "      <td>NaN</td>\n",
       "      <td>Doug Walker</td>\n",
       "      <td>NaN</td>\n",
       "      <td>NaN</td>\n",
       "      <td>131.0</td>\n",
       "      <td>NaN</td>\n",
       "      <td>Rob Walker</td>\n",
       "      <td>131.0</td>\n",
       "      <td>NaN</td>\n",
       "      <td>Documentary</td>\n",
       "      <td>...</td>\n",
       "      <td>NaN</td>\n",
       "      <td>NaN</td>\n",
       "      <td>NaN</td>\n",
       "      <td>NaN</td>\n",
       "      <td>NaN</td>\n",
       "      <td>NaN</td>\n",
       "      <td>12.0</td>\n",
       "      <td>7.1</td>\n",
       "      <td>NaN</td>\n",
       "      <td>0</td>\n",
       "    </tr>\n",
       "  </tbody>\n",
       "</table>\n",
       "<p>5 rows × 28 columns</p>\n",
       "</div>"
      ],
      "text/plain": [
       "   color      director_name  num_critic_for_reviews  duration  \\\n",
       "0  Color      James Cameron                   723.0     178.0   \n",
       "1  Color     Gore Verbinski                   302.0     169.0   \n",
       "2  Color         Sam Mendes                   602.0     148.0   \n",
       "3  Color  Christopher Nolan                   813.0     164.0   \n",
       "4    NaN        Doug Walker                     NaN       NaN   \n",
       "\n",
       "   director_facebook_likes  actor_3_facebook_likes      actor_2_name  \\\n",
       "0                      0.0                   855.0  Joel David Moore   \n",
       "1                    563.0                  1000.0     Orlando Bloom   \n",
       "2                      0.0                   161.0      Rory Kinnear   \n",
       "3                  22000.0                 23000.0    Christian Bale   \n",
       "4                    131.0                     NaN        Rob Walker   \n",
       "\n",
       "   actor_1_facebook_likes        gross                           genres  \\\n",
       "0                  1000.0  760505847.0  Action|Adventure|Fantasy|Sci-Fi   \n",
       "1                 40000.0  309404152.0         Action|Adventure|Fantasy   \n",
       "2                 11000.0  200074175.0        Action|Adventure|Thriller   \n",
       "3                 27000.0  448130642.0                  Action|Thriller   \n",
       "4                   131.0          NaN                      Documentary   \n",
       "\n",
       "          ...          num_user_for_reviews language  country  content_rating  \\\n",
       "0         ...                        3054.0  English      USA           PG-13   \n",
       "1         ...                        1238.0  English      USA           PG-13   \n",
       "2         ...                         994.0  English       UK           PG-13   \n",
       "3         ...                        2701.0  English      USA           PG-13   \n",
       "4         ...                           NaN      NaN      NaN             NaN   \n",
       "\n",
       "        budget  title_year actor_2_facebook_likes imdb_score  aspect_ratio  \\\n",
       "0  237000000.0      2009.0                  936.0        7.9          1.78   \n",
       "1  300000000.0      2007.0                 5000.0        7.1          2.35   \n",
       "2  245000000.0      2015.0                  393.0        6.8          2.35   \n",
       "3  250000000.0      2012.0                23000.0        8.5          2.35   \n",
       "4          NaN         NaN                   12.0        7.1           NaN   \n",
       "\n",
       "  movie_facebook_likes  \n",
       "0                33000  \n",
       "1                    0  \n",
       "2                85000  \n",
       "3               164000  \n",
       "4                    0  \n",
       "\n",
       "[5 rows x 28 columns]"
      ]
     },
     "execution_count": 4,
     "metadata": {},
     "output_type": "execute_result"
    }
   ],
   "source": [
    "data = pd.read_csv(\"movie_metadata.csv\")\n",
    "data.head(5)"
   ]
  },
  {
   "cell_type": "code",
   "execution_count": 5,
   "metadata": {
    "collapsed": false
   },
   "outputs": [],
   "source": [
    "#Keep relevent columns from the table\n",
    "data = data[['movie_imdb_link', 'imdb_score', 'movie_title', 'title_year', 'duration', 'language', 'country', 'genres', 'director_name', 'director_facebook_likes', 'movie_facebook_likes', 'actor_1_name', 'actor_2_name', 'actor_3_name', 'actor_1_facebook_likes', 'actor_2_facebook_likes', 'actor_3_facebook_likes', 'cast_total_facebook_likes', 'num_critic_for_reviews', 'num_voted_users', 'num_user_for_reviews', 'aspect_ratio', 'facenumber_in_poster', 'plot_keywords','content_rating']]\n"
   ]
  },
  {
   "cell_type": "code",
   "execution_count": 6,
   "metadata": {
    "collapsed": false
   },
   "outputs": [
    {
     "data": {
      "text/plain": [
       "5043"
      ]
     },
     "execution_count": 6,
     "metadata": {},
     "output_type": "execute_result"
    }
   ],
   "source": [
    "len(data)"
   ]
  },
  {
   "cell_type": "code",
   "execution_count": 7,
   "metadata": {
    "collapsed": false
   },
   "outputs": [
    {
     "name": "stdout",
     "output_type": "stream",
     "text": [
      "<class 'pandas.core.frame.DataFrame'>\n",
      "RangeIndex: 5043 entries, 0 to 5042\n",
      "Data columns (total 25 columns):\n",
      "movie_imdb_link              5043 non-null object\n",
      "imdb_score                   5043 non-null float64\n",
      "movie_title                  5043 non-null object\n",
      "title_year                   4935 non-null float64\n",
      "duration                     5028 non-null float64\n",
      "language                     5031 non-null object\n",
      "country                      5038 non-null object\n",
      "genres                       5043 non-null object\n",
      "director_name                4939 non-null object\n",
      "director_facebook_likes      4939 non-null float64\n",
      "movie_facebook_likes         5043 non-null int64\n",
      "actor_1_name                 5036 non-null object\n",
      "actor_2_name                 5030 non-null object\n",
      "actor_3_name                 5020 non-null object\n",
      "actor_1_facebook_likes       5036 non-null float64\n",
      "actor_2_facebook_likes       5030 non-null float64\n",
      "actor_3_facebook_likes       5020 non-null float64\n",
      "cast_total_facebook_likes    5043 non-null int64\n",
      "num_critic_for_reviews       4993 non-null float64\n",
      "num_voted_users              5043 non-null int64\n",
      "num_user_for_reviews         5022 non-null float64\n",
      "aspect_ratio                 4714 non-null float64\n",
      "facenumber_in_poster         5030 non-null float64\n",
      "plot_keywords                4890 non-null object\n",
      "content_rating               4740 non-null object\n",
      "dtypes: float64(11), int64(3), object(11)\n",
      "memory usage: 985.0+ KB\n"
     ]
    }
   ],
   "source": [
    "#check info\n",
    "data.info() "
   ]
  },
  {
   "cell_type": "markdown",
   "metadata": {},
   "source": [
    "Check for missing values"
   ]
  },
  {
   "cell_type": "code",
   "execution_count": 8,
   "metadata": {
    "collapsed": false
   },
   "outputs": [
    {
     "data": {
      "text/plain": [
       "True"
      ]
     },
     "execution_count": 8,
     "metadata": {},
     "output_type": "execute_result"
    }
   ],
   "source": [
    "data.isnull().values.any()"
   ]
  },
  {
   "cell_type": "code",
   "execution_count": 9,
   "metadata": {
    "collapsed": false
   },
   "outputs": [
    {
     "data": {
      "text/plain": [
       "movie_imdb_link                0\n",
       "imdb_score                     0\n",
       "movie_title                    0\n",
       "title_year                   108\n",
       "duration                      15\n",
       "language                      12\n",
       "country                        5\n",
       "genres                         0\n",
       "director_name                104\n",
       "director_facebook_likes      104\n",
       "movie_facebook_likes           0\n",
       "actor_1_name                   7\n",
       "actor_2_name                  13\n",
       "actor_3_name                  23\n",
       "actor_1_facebook_likes         7\n",
       "actor_2_facebook_likes        13\n",
       "actor_3_facebook_likes        23\n",
       "cast_total_facebook_likes      0\n",
       "num_critic_for_reviews        50\n",
       "num_voted_users                0\n",
       "num_user_for_reviews          21\n",
       "aspect_ratio                 329\n",
       "facenumber_in_poster          13\n",
       "plot_keywords                153\n",
       "content_rating               303\n",
       "dtype: int64"
      ]
     },
     "execution_count": 9,
     "metadata": {},
     "output_type": "execute_result"
    }
   ],
   "source": [
    "#Check how many values are null in each column\n",
    "data[data.columns[:]].isnull().sum()"
   ]
  },
  {
   "cell_type": "code",
   "execution_count": 10,
   "metadata": {
    "collapsed": false
   },
   "outputs": [
    {
     "data": {
      "text/plain": [
       "movie_imdb_link              0.00\n",
       "imdb_score                   0.00\n",
       "movie_title                  0.00\n",
       "title_year                   2.19\n",
       "duration                     0.30\n",
       "language                     0.24\n",
       "country                      0.10\n",
       "genres                       0.00\n",
       "director_name                2.11\n",
       "director_facebook_likes      2.11\n",
       "movie_facebook_likes         0.00\n",
       "actor_1_name                 0.14\n",
       "actor_2_name                 0.26\n",
       "actor_3_name                 0.46\n",
       "actor_1_facebook_likes       0.14\n",
       "actor_2_facebook_likes       0.26\n",
       "actor_3_facebook_likes       0.46\n",
       "cast_total_facebook_likes    0.00\n",
       "num_critic_for_reviews       1.00\n",
       "num_voted_users              0.00\n",
       "num_user_for_reviews         0.42\n",
       "aspect_ratio                 6.98\n",
       "facenumber_in_poster         0.26\n",
       "plot_keywords                3.13\n",
       "content_rating               6.39\n",
       "dtype: float64"
      ]
     },
     "execution_count": 10,
     "metadata": {},
     "output_type": "execute_result"
    }
   ],
   "source": [
    "prop_missing = round((data[data.columns[:]].isnull().sum()/data[data.columns[:]].count())*100,2)\n",
    "prop_missing"
   ]
  },
  {
   "cell_type": "code",
   "execution_count": 11,
   "metadata": {
    "collapsed": false
   },
   "outputs": [
    {
     "data": {
      "text/plain": [
       "4923"
      ]
     },
     "execution_count": 11,
     "metadata": {},
     "output_type": "execute_result"
    }
   ],
   "source": [
    "#Remove the missing data with title year missing\n",
    "clean_data = data[data.title_year.notnull() & data.duration.notnull()]\n",
    "len(clean_data)"
   ]
  },
  {
   "cell_type": "code",
   "execution_count": 12,
   "metadata": {
    "collapsed": false
   },
   "outputs": [
    {
     "name": "stderr",
     "output_type": "stream",
     "text": [
      "/Users/ruhama.ahale/anaconda/lib/python3.6/site-packages/pandas/core/indexing.py:477: SettingWithCopyWarning: \n",
      "A value is trying to be set on a copy of a slice from a DataFrame.\n",
      "Try using .loc[row_indexer,col_indexer] = value instead\n",
      "\n",
      "See the caveats in the documentation: http://pandas.pydata.org/pandas-docs/stable/indexing.html#indexing-view-versus-copy\n",
      "  self.obj[item] = s\n",
      "/Users/ruhama.ahale/anaconda/lib/python3.6/site-packages/pandas/core/indexing.py:297: SettingWithCopyWarning: \n",
      "A value is trying to be set on a copy of a slice from a DataFrame.\n",
      "Try using .loc[row_indexer,col_indexer] = value instead\n",
      "\n",
      "See the caveats in the documentation: http://pandas.pydata.org/pandas-docs/stable/indexing.html#indexing-view-versus-copy\n",
      "  self.obj[key] = _infer_fill_value(value)\n"
     ]
    }
   ],
   "source": [
    "clean_data.loc[:, 'title_year'] = clean_data['title_year'].astype(int).astype(str)\n",
    "clean_data.loc[:, 'year'] = pd.to_datetime(clean_data['title_year'], format='%Y')"
   ]
  },
  {
   "cell_type": "code",
   "execution_count": 13,
   "metadata": {
    "collapsed": false
   },
   "outputs": [
    {
     "data": {
      "text/html": [
       "<div>\n",
       "<table border=\"1\" class=\"dataframe\">\n",
       "  <thead>\n",
       "    <tr style=\"text-align: right;\">\n",
       "      <th></th>\n",
       "      <th>imdb_score</th>\n",
       "      <th>duration</th>\n",
       "      <th>director_facebook_likes</th>\n",
       "      <th>movie_facebook_likes</th>\n",
       "      <th>actor_1_facebook_likes</th>\n",
       "      <th>actor_2_facebook_likes</th>\n",
       "      <th>actor_3_facebook_likes</th>\n",
       "      <th>cast_total_facebook_likes</th>\n",
       "      <th>num_critic_for_reviews</th>\n",
       "      <th>num_voted_users</th>\n",
       "      <th>num_user_for_reviews</th>\n",
       "      <th>aspect_ratio</th>\n",
       "      <th>facenumber_in_poster</th>\n",
       "    </tr>\n",
       "  </thead>\n",
       "  <tbody>\n",
       "    <tr>\n",
       "      <th>count</th>\n",
       "      <td>4923.000000</td>\n",
       "      <td>4923.000000</td>\n",
       "      <td>4923.000000</td>\n",
       "      <td>4923.000000</td>\n",
       "      <td>4916.000000</td>\n",
       "      <td>4913.000000</td>\n",
       "      <td>4906.000000</td>\n",
       "      <td>4923.000000</td>\n",
       "      <td>4885.000000</td>\n",
       "      <td>4.923000e+03</td>\n",
       "      <td>4910.000000</td>\n",
       "      <td>4627.000000</td>\n",
       "      <td>4910.000000</td>\n",
       "    </tr>\n",
       "    <tr>\n",
       "      <th>mean</th>\n",
       "      <td>6.418769</td>\n",
       "      <td>108.167378</td>\n",
       "      <td>688.581353</td>\n",
       "      <td>7612.714199</td>\n",
       "      <td>6680.215216</td>\n",
       "      <td>1679.045186</td>\n",
       "      <td>652.106400</td>\n",
       "      <td>9858.146049</td>\n",
       "      <td>142.809212</td>\n",
       "      <td>8.507018e+04</td>\n",
       "      <td>277.104481</td>\n",
       "      <td>2.128965</td>\n",
       "      <td>1.359878</td>\n",
       "    </tr>\n",
       "    <tr>\n",
       "      <th>std</th>\n",
       "      <td>1.112902</td>\n",
       "      <td>22.541217</td>\n",
       "      <td>2817.656735</td>\n",
       "      <td>19474.099601</td>\n",
       "      <td>15169.990429</td>\n",
       "      <td>4085.578189</td>\n",
       "      <td>1683.131836</td>\n",
       "      <td>18339.570916</td>\n",
       "      <td>121.592375</td>\n",
       "      <td>1.397094e+05</td>\n",
       "      <td>380.852747</td>\n",
       "      <td>0.789255</td>\n",
       "      <td>2.001990</td>\n",
       "    </tr>\n",
       "    <tr>\n",
       "      <th>min</th>\n",
       "      <td>1.600000</td>\n",
       "      <td>7.000000</td>\n",
       "      <td>0.000000</td>\n",
       "      <td>0.000000</td>\n",
       "      <td>0.000000</td>\n",
       "      <td>0.000000</td>\n",
       "      <td>0.000000</td>\n",
       "      <td>0.000000</td>\n",
       "      <td>1.000000</td>\n",
       "      <td>5.000000e+00</td>\n",
       "      <td>1.000000</td>\n",
       "      <td>1.180000</td>\n",
       "      <td>0.000000</td>\n",
       "    </tr>\n",
       "    <tr>\n",
       "      <th>25%</th>\n",
       "      <td>5.800000</td>\n",
       "      <td>94.000000</td>\n",
       "      <td>7.000000</td>\n",
       "      <td>0.000000</td>\n",
       "      <td>621.750000</td>\n",
       "      <td>282.000000</td>\n",
       "      <td>133.250000</td>\n",
       "      <td>1431.000000</td>\n",
       "      <td>53.000000</td>\n",
       "      <td>9.058500e+03</td>\n",
       "      <td>68.000000</td>\n",
       "      <td>1.850000</td>\n",
       "      <td>0.000000</td>\n",
       "    </tr>\n",
       "    <tr>\n",
       "      <th>50%</th>\n",
       "      <td>6.500000</td>\n",
       "      <td>104.000000</td>\n",
       "      <td>49.000000</td>\n",
       "      <td>166.000000</td>\n",
       "      <td>995.500000</td>\n",
       "      <td>599.000000</td>\n",
       "      <td>372.000000</td>\n",
       "      <td>3132.000000</td>\n",
       "      <td>112.000000</td>\n",
       "      <td>3.513700e+04</td>\n",
       "      <td>160.000000</td>\n",
       "      <td>2.350000</td>\n",
       "      <td>1.000000</td>\n",
       "    </tr>\n",
       "    <tr>\n",
       "      <th>75%</th>\n",
       "      <td>7.200000</td>\n",
       "      <td>118.000000</td>\n",
       "      <td>197.000000</td>\n",
       "      <td>3000.000000</td>\n",
       "      <td>11000.000000</td>\n",
       "      <td>922.000000</td>\n",
       "      <td>637.000000</td>\n",
       "      <td>14032.000000</td>\n",
       "      <td>197.000000</td>\n",
       "      <td>9.827350e+04</td>\n",
       "      <td>332.000000</td>\n",
       "      <td>2.350000</td>\n",
       "      <td>2.000000</td>\n",
       "    </tr>\n",
       "    <tr>\n",
       "      <th>max</th>\n",
       "      <td>9.300000</td>\n",
       "      <td>330.000000</td>\n",
       "      <td>23000.000000</td>\n",
       "      <td>349000.000000</td>\n",
       "      <td>640000.000000</td>\n",
       "      <td>137000.000000</td>\n",
       "      <td>23000.000000</td>\n",
       "      <td>656730.000000</td>\n",
       "      <td>813.000000</td>\n",
       "      <td>1.689764e+06</td>\n",
       "      <td>5060.000000</td>\n",
       "      <td>16.000000</td>\n",
       "      <td>43.000000</td>\n",
       "    </tr>\n",
       "  </tbody>\n",
       "</table>\n",
       "</div>"
      ],
      "text/plain": [
       "        imdb_score     duration  director_facebook_likes  \\\n",
       "count  4923.000000  4923.000000              4923.000000   \n",
       "mean      6.418769   108.167378               688.581353   \n",
       "std       1.112902    22.541217              2817.656735   \n",
       "min       1.600000     7.000000                 0.000000   \n",
       "25%       5.800000    94.000000                 7.000000   \n",
       "50%       6.500000   104.000000                49.000000   \n",
       "75%       7.200000   118.000000               197.000000   \n",
       "max       9.300000   330.000000             23000.000000   \n",
       "\n",
       "       movie_facebook_likes  actor_1_facebook_likes  actor_2_facebook_likes  \\\n",
       "count           4923.000000             4916.000000             4913.000000   \n",
       "mean            7612.714199             6680.215216             1679.045186   \n",
       "std            19474.099601            15169.990429             4085.578189   \n",
       "min                0.000000                0.000000                0.000000   \n",
       "25%                0.000000              621.750000              282.000000   \n",
       "50%              166.000000              995.500000              599.000000   \n",
       "75%             3000.000000            11000.000000              922.000000   \n",
       "max           349000.000000           640000.000000           137000.000000   \n",
       "\n",
       "       actor_3_facebook_likes  cast_total_facebook_likes  \\\n",
       "count             4906.000000                4923.000000   \n",
       "mean               652.106400                9858.146049   \n",
       "std               1683.131836               18339.570916   \n",
       "min                  0.000000                   0.000000   \n",
       "25%                133.250000                1431.000000   \n",
       "50%                372.000000                3132.000000   \n",
       "75%                637.000000               14032.000000   \n",
       "max              23000.000000              656730.000000   \n",
       "\n",
       "       num_critic_for_reviews  num_voted_users  num_user_for_reviews  \\\n",
       "count             4885.000000     4.923000e+03           4910.000000   \n",
       "mean               142.809212     8.507018e+04            277.104481   \n",
       "std                121.592375     1.397094e+05            380.852747   \n",
       "min                  1.000000     5.000000e+00              1.000000   \n",
       "25%                 53.000000     9.058500e+03             68.000000   \n",
       "50%                112.000000     3.513700e+04            160.000000   \n",
       "75%                197.000000     9.827350e+04            332.000000   \n",
       "max                813.000000     1.689764e+06           5060.000000   \n",
       "\n",
       "       aspect_ratio  facenumber_in_poster  \n",
       "count   4627.000000           4910.000000  \n",
       "mean       2.128965              1.359878  \n",
       "std        0.789255              2.001990  \n",
       "min        1.180000              0.000000  \n",
       "25%        1.850000              0.000000  \n",
       "50%        2.350000              1.000000  \n",
       "75%        2.350000              2.000000  \n",
       "max       16.000000             43.000000  "
      ]
     },
     "execution_count": 13,
     "metadata": {},
     "output_type": "execute_result"
    }
   ],
   "source": [
    "clean_data.describe()"
   ]
  },
  {
   "cell_type": "markdown",
   "metadata": {
    "collapsed": true
   },
   "source": [
    "Q1. What are the total number of movies reviewed by decade?"
   ]
  },
  {
   "cell_type": "code",
   "execution_count": 14,
   "metadata": {
    "collapsed": false
   },
   "outputs": [
    {
     "data": {
      "image/png": "[encoded data removed]",
      "text/plain": [
       "<matplotlib.figure.Figure at 0x1119dd668>"
      ]
     },
     "metadata": {},
     "output_type": "display_data"
    }
   ],
   "source": [
    "temp = clean_data[['year', 'title_year','movie_title', 'imdb_score']]\n",
    "#solutio\n",
    "temp1 = temp[['title_year', 'movie_title']]\n",
    "temp1.groupby(temp1.title_year.astype(int) // 10 * 10).size().plot(kind='bar')\n",
    "plt.tight_layout()\n",
    "#need help on adding labels to below"
   ]
  },
  {
   "cell_type": "markdown",
   "metadata": {},
   "source": [
    "This shows a growing trend of movies created every decade. The amount of movies created is growing exponentially. The last decade data is only available for 4 years (2010-2014) so it obviously shows a drop in movies created in the last decade"
   ]
  },
  {
   "cell_type": "markdown",
   "metadata": {
    "collapsed": true
   },
   "source": [
    "Q2. What has been the trend of imdb rating?"
   ]
  },
  {
   "cell_type": "code",
   "execution_count": 15,
   "metadata": {
    "collapsed": false
   },
   "outputs": [
    {
     "data": {
      "text/plain": [
       "<matplotlib.text.Text at 0x11518bfd0>"
      ]
     },
     "execution_count": 15,
     "metadata": {},
     "output_type": "execute_result"
    },
    {
     "data": {
      "image/png": "[encoded data removed]",
      "text/plain": [
       "<matplotlib.figure.Figure at 0x1119ddf60>"
      ]
     },
     "metadata": {},
     "output_type": "display_data"
    }
   ],
   "source": [
    "#years = mdates.YearLocator()\n",
    "temp2 = clean_data[['title_year', 'imdb_score']]\n",
    "temp2 = temp2.groupby(temp2.title_year.astype(int)).imdb_score.mean().plot(kind ='line', title ='IMDB Mean score trend line', xlim=((1950, 2016)))\n",
    "temp2.xaxis.set_ticks(np.arange(1950, 2016, 7))\n",
    "plt.tight_layout()\n",
    "#fig.suptitle('test title', fontsize=20)\n",
    "plt.xlabel('year', fontsize=12)\n",
    "plt.ylabel('mean score', fontsize=12)\n",
    "#add plot title"
   ]
  },
  {
   "cell_type": "markdown",
   "metadata": {},
   "source": [
    "It looks like the average score of movies is decreasing over time, However, this could be due to an increase in no of movies being created over time"
   ]
  },
  {
   "cell_type": "markdown",
   "metadata": {},
   "source": [
    "Below plot shows comparison of movies created vs average imdb score over time"
   ]
  },
  {
   "cell_type": "code",
   "execution_count": 16,
   "metadata": {
    "collapsed": false
   },
   "outputs": [
    {
     "data": {
      "image/png": "[encoded data removed]",
      "text/plain": [
       "<matplotlib.figure.Figure at 0x1150d75c0>"
      ]
     },
     "metadata": {},
     "output_type": "display_data"
    }
   ],
   "source": [
    "#create new table with grouped information\n",
    "temp = clean_data[['title_year', 'imdb_score', 'movie_imdb_link']]\n",
    "temp = temp[temp.title_year.astype(int)>1949]\n",
    "res = temp.groupby(temp.title_year.astype(int)).agg({'imdb_score': 'mean', 'movie_imdb_link': 'count'}).reset_index()\n",
    "res.columns = ['title_year', 'avg_imdb_score', 'movies_created']\n",
    "rows = res.title_year\n",
    "\n",
    "fig = plt.figure()\n",
    "ax1 = fig.add_subplot(111)\n",
    "ax1.plot(res.title_year, res.avg_imdb_score, color = 'red')\n",
    "ax1.set_ylabel('avg_imdb_score', color = 'red')\n",
    "\n",
    "ax2 = ax1.twinx()\n",
    "ax2.plot(res.title_year, res.movies_created, color='green')\n",
    "ax2.set_ylabel('movies_created', color='green')\n",
    "for tl in ax2.get_yticklabels():\n",
    "    tl.set_color('r')\n",
    "plt.show()\n",
    "\n",
    "#plt.savefig('images/two-scales-5.png')"
   ]
  },
  {
   "cell_type": "markdown",
   "metadata": {},
   "source": [
    "As we can see, the decrease in average movie scores can be attributed to the increase in amount of movies created in recent times, the increase in amount of movies will lead to more outliers affecting the mean for the duration."
   ]
  },
  {
   "cell_type": "markdown",
   "metadata": {
    "collapsed": true
   },
   "source": [
    "Q3. How do the score change for each type of content rating? (Are the content ratings tied to the imdb scores?)\n"
   ]
  },
  {
   "cell_type": "code",
   "execution_count": 17,
   "metadata": {
    "collapsed": false
   },
   "outputs": [
    {
     "data": {
      "image/png": "[encoded data removed]",
      "text/plain": [
       "<matplotlib.figure.Figure at 0x115228898>"
      ]
     },
     "metadata": {},
     "output_type": "display_data"
    }
   ],
   "source": [
    "temp = data[['content_rating', 'imdb_score']]\n",
    "temp.groupby(temp.content_rating).imdb_score.mean().plot(kind='bar')\n",
    "plt.show()"
   ]
  },
  {
   "cell_type": "markdown",
   "metadata": {},
   "source": [
    "Overall, TV-MA content has highest score but there isnt much difference in score between content"
   ]
  },
  {
   "cell_type": "markdown",
   "metadata": {
    "collapsed": true
   },
   "source": [
    "Q4. Which director has the highest IMDB average score? Display the top 10\n"
   ]
  },
  {
   "cell_type": "code",
   "execution_count": 18,
   "metadata": {
    "collapsed": false
   },
   "outputs": [
    {
     "data": {
      "image/png": "[encoded data removed]",
      "text/plain": [
       "<matplotlib.figure.Figure at 0x1154637b8>"
      ]
     },
     "metadata": {},
     "output_type": "display_data"
    }
   ],
   "source": [
    "#len(data['director_name'])\n",
    "temp = data[['director_name', 'imdb_score']]\n",
    "t1 = temp.groupby(temp.director_name).mean().sort_values(by='imdb_score', ascending=[False])\n",
    "t1 = t1.head(10).plot(kind='barh', title='Top 10 high scoring directors', legend=[True])\n",
    "# set labels for both axes\n",
    "t1 = t1.set( xlabel='Average IMDB Score', ylabel='Director')\n",
    "plt.show()"
   ]
  },
  {
   "cell_type": "markdown",
   "metadata": {
    "collapsed": true
   },
   "source": [
    "Q5. Plot the relation between the variables movie facebook likes and imdb_score using a scatterplot\n"
   ]
  },
  {
   "cell_type": "code",
   "execution_count": 40,
   "metadata": {
    "collapsed": true
   },
   "outputs": [],
   "source": [
    "#scatterplot average_imdb_score vs movie_facebook_likes"
   ]
  },
  {
   "cell_type": "code",
   "execution_count": 41,
   "metadata": {
    "collapsed": false
   },
   "outputs": [
    {
     "data": {
      "image/png": "[encoded data removed]",
      "text/plain": [
       "<matplotlib.figure.Figure at 0x115e2f518>"
      ]
     },
     "metadata": {},
     "output_type": "display_data"
    }
   ],
   "source": [
    "#plot\n",
    "temp = clean_data[['movie_facebook_likes', 'imdb_score']]\n",
    "temp = temp[temp.imdb_score > 0]\n",
    "x = temp.plot(x='movie_facebook_likes', y = 'imdb_score',kind='scatter', xlim = (0, 100000), title='IMDB Score VS Movie facebook likes', legend=[True])\n"
   ]
  },
  {
   "cell_type": "code",
   "execution_count": 42,
   "metadata": {
    "collapsed": false
   },
   "outputs": [
    {
     "name": "stdout",
     "output_type": "stream",
     "text": [
      "                      imdb_score  movie_facebook_likes\n",
      "imdb_score               1.00000               0.25389\n",
      "movie_facebook_likes     0.25389               1.00000\n"
     ]
    }
   ],
   "source": [
    "print( temp[['imdb_score','movie_facebook_likes']].corr())"
   ]
  },
  {
   "cell_type": "markdown",
   "metadata": {},
   "source": [
    "These is weak positive correlation between imdb score and movie facebook likes"
   ]
  },
  {
   "cell_type": "markdown",
   "metadata": {
    "collapsed": true
   },
   "source": [
    "Q6. Plot average imdb score vs durartion of movie"
   ]
  },
  {
   "cell_type": "code",
   "execution_count": 32,
   "metadata": {
    "collapsed": false
   },
   "outputs": [
    {
     "data": {
      "image/png": "[encoded data removed]",
      "text/plain": [
       "<matplotlib.figure.Figure at 0x115d5e9e8>"
      ]
     },
     "metadata": {},
     "output_type": "display_data"
    }
   ],
   "source": [
    "temp = clean_data[['duration', 'imdb_score']]\n",
    "temp = temp.plot('duration', 'imdb_score', kind ='scatter', title ='Duration VS Mean IMDB Score')\n",
    "plt.xlabel('imdb_score', fontsize=12)\n",
    "plt.ylabel('duration', fontsize=12)\n",
    "plt.tight_layout()\n",
    "\n",
    "#add plot title"
   ]
  },
  {
   "cell_type": "code",
   "execution_count": 33,
   "metadata": {
    "collapsed": false
   },
   "outputs": [
    {
     "name": "stdout",
     "output_type": "stream",
     "text": [
      "            imdb_score  duration\n",
      "imdb_score    1.000000  0.341539\n",
      "duration      0.341539  1.000000\n"
     ]
    }
   ],
   "source": [
    "# np.correlate(clean_data[\"imdb_score\"], clean_data[\"duration\"])\n",
    "print( clean_data[['imdb_score','duration']].corr())"
   ]
  },
  {
   "cell_type": "markdown",
   "metadata": {},
   "source": [
    "There is weak positive correlation between imdb_score and duration of movie"
   ]
  },
  {
   "cell_type": "code",
   "execution_count": 34,
   "metadata": {
    "collapsed": false
   },
   "outputs": [
    {
     "data": {
      "image/png": "[encoded data removed]",
      "text/plain": [
       "<matplotlib.figure.Figure at 0x115e75c18>"
      ]
     },
     "metadata": {},
     "output_type": "display_data"
    }
   ],
   "source": [
    "temp = clean_data[['duration', 'imdb_score']]\n",
    "sns.regplot(x=\"duration\", y=\"imdb_score\", data=temp);"
   ]
  },
  {
   "cell_type": "markdown",
   "metadata": {},
   "source": [
    "This shows that there is weak positive correlation between imdb_score and duration, we can use this to find an optimum range of duration that gives the best scores."
   ]
  },
  {
   "cell_type": "markdown",
   "metadata": {
    "collapsed": true
   },
   "source": [
    "Q7. Check if movies with language 'hindi' have more duration on average than with language 'english'"
   ]
  },
  {
   "cell_type": "code",
   "execution_count": 43,
   "metadata": {
    "collapsed": false
   },
   "outputs": [
    {
     "data": {
      "image/png": "[encoded data removed]",
      "text/plain": [
       "<matplotlib.figure.Figure at 0x116289240>"
      ]
     },
     "metadata": {},
     "output_type": "display_data"
    }
   ],
   "source": [
    "temp = clean_data[['language', 'duration', 'title_year']]\n",
    "temp1 = temp[temp.title_year.astype(int) >= 2000]\n",
    "temp1 = temp1.loc[temp1['language'].isin(['English','Hindi'])]\n",
    "# temp1 = temp1[temp1.language == 'English' | temp1.language == 'Hindi']\n",
    "temp1.groupby(temp1.language).duration.mean().plot(kind='bar')\n",
    "plt.show()"
   ]
  },
  {
   "cell_type": "code",
   "execution_count": 36,
   "metadata": {
    "collapsed": true
   },
   "outputs": [],
   "source": [
    "hindi = temp1[temp1.language == 'Hindi']\n",
    "english = temp1[temp1.language == 'English'] "
   ]
  },
  {
   "cell_type": "code",
   "execution_count": 37,
   "metadata": {
    "collapsed": false
   },
   "outputs": [
    {
     "name": "stdout",
     "output_type": "stream",
     "text": [
      "The dataset has 26 Hindi and 3308 English movies\n"
     ]
    }
   ],
   "source": [
    "print(\"The dataset has {} Hindi and {} English movies\".format(len(hindi), len(english)) )"
   ]
  },
  {
   "cell_type": "markdown",
   "metadata": {},
   "source": [
    "As we can see from the above plot, Hindi movies are longer than English movies, however the Hindi movie dataset only has 26 movies while the English movie dataset has 3308 movies (all realeased since year 2000). We need more data for Hindi movies in order to draw a comparison. Below we plot the histogram for these two datasets:"
   ]
  },
  {
   "cell_type": "code",
   "execution_count": 38,
   "metadata": {
    "collapsed": false
   },
   "outputs": [
    {
     "name": "stdout",
     "output_type": "stream",
     "text": [
      "The mean duration of the Hindi movies is 143.27 and standard deviation is 25.14\n"
     ]
    },
    {
     "data": {
      "image/png": "[encoded data removed]",
      "text/plain": [
       "<matplotlib.figure.Figure at 0x10d06a6d8>"
      ]
     },
     "metadata": {},
     "output_type": "display_data"
    }
   ],
   "source": [
    "#plot histogram for hindi movie durations\n",
    "hindi.duration.plot(kind='hist',color='0.5', bins = 10, title = 'Histogram for duration of Hindi movies').set_xlabel('Duration')\n",
    "hindi_mean = round(mean(hindi[\"duration\"]),2)\n",
    "hindi_sd = round((hindi[\"duration\"]).std(),2)\n",
    "print(\"The mean duration of the Hindi movies is {} and standard deviation is {}\".format(hindi_mean, hindi_sd) )\n"
   ]
  },
  {
   "cell_type": "code",
   "execution_count": 39,
   "metadata": {
    "collapsed": false
   },
   "outputs": [
    {
     "name": "stdout",
     "output_type": "stream",
     "text": [
      "The mean duration of the English movies is 105.75 and standard duration is 19.23\n"
     ]
    },
    {
     "data": {
      "image/png": "[encoded data removed]",
      "text/plain": [
       "<matplotlib.figure.Figure at 0x1154632e8>"
      ]
     },
     "metadata": {},
     "output_type": "display_data"
    }
   ],
   "source": [
    "#plot histogram for english movie durations\n",
    "english.duration.plot(kind='hist',color='0.5', bins = 10, title = 'Histogram for duration of English movies').set_xlabel('duration')\n",
    "english_mean = round(mean(english[\"duration\"]),2)\n",
    "english_sd = round((english[\"duration\"]).std(),2)\n",
    "print(\"The mean duration of the English movies is {} and standard duration is {}\".format(english_mean, english_sd) )\n"
   ]
  },
  {
   "cell_type": "markdown",
   "metadata": {},
   "source": [
    "Based on these plots we can analyze the hypothesis that mean duration of Hindi movies and English movies are same, we can use the t test to test\n",
    "$H_0: \\mu_h=\\mu_e $ VS $H_0: \\mu_h != \\mu_e$ at alpha = 0.05"
   ]
  },
  {
   "cell_type": "markdown",
   "metadata": {},
   "source": [
    "Q. Having made these plots, what are some insights you get from them? Do you see any correlations? Is there a hypothesis you would like to investigate further? What other questions do they lead you to ask?\n",
    "\n",
    "A. 1) We see that the amount of movies created over time is increasing exponentially while the average IMDB score for the movies is decreasing over time\n",
    "2) We see a positive correlation between IMDB Score and Movie facebook likes and between Duration of movie and its IMDB Score\n",
    "3) We see a difference in mean duration of movies created since 2000 between groups of Hindi and English movies, this leads of us formulate a Hypothesis test to test if the durations are similar between the groups or not\n"
   ]
  },
  {
   "cell_type": "code",
   "execution_count": null,
   "metadata": {
    "collapsed": true
   },
   "outputs": [],
   "source": []
  },
  {
   "cell_type": "code",
   "execution_count": null,
   "metadata": {
    "collapsed": true
   },
   "outputs": [],
   "source": []
  },
  {
   "cell_type": "code",
   "execution_count": null,
   "metadata": {
    "collapsed": true
   },
   "outputs": [],
   "source": []
  },
  {
   "cell_type": "code",
   "execution_count": null,
   "metadata": {
    "collapsed": true
   },
   "outputs": [],
   "source": []
  },
  {
   "cell_type": "code",
   "execution_count": null,
   "metadata": {
    "collapsed": true
   },
   "outputs": [],
   "source": []
  }
 ],
 "metadata": {
  "kernelspec": {
   "display_name": "Python 3",
   "language": "python",
   "name": "python3"
  },
  "language_info": {
   "codemirror_mode": {
    "name": "ipython",
    "version": 3
   },
   "file_extension": ".py",
   "mimetype": "text/x-python",
   "name": "python",
   "nbconvert_exporter": "python",
   "pygments_lexer": "ipython3",
   "version": "3.6.0"
  }
 },
 "nbformat": 4,
 "nbformat_minor": 2
}
